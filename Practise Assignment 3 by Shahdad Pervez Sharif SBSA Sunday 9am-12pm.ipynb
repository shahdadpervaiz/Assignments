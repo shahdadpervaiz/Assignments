{
 "cells": [
  {
   "cell_type": "markdown",
   "metadata": {},
   "source": [
    "# Q1:"
   ]
  },
  {
   "cell_type": "markdown",
   "metadata": {},
   "source": [
    "Think of at least three kinds of your favorite pizza. Store these pizza names in a list, and then use a for loop to print the name of each pizza."
   ]
  },
  {
   "cell_type": "code",
   "execution_count": 3,
   "metadata": {},
   "outputs": [
    {
     "name": "stdout",
     "output_type": "stream",
     "text": [
      "\t\t Chicken Fajita Pizza\n",
      "\t\t Afghani Tikka Pizza\n",
      "\t\t Pepperoni Pizza\n"
     ]
    }
   ],
   "source": [
    "pizza=['Chicken Fajita Pizza','Afghani Tikka Pizza','Pepperoni Pizza']\n",
    "for a in pizza:\n",
    "    print(\"\\t\\t\",a )"
   ]
  },
  {
   "cell_type": "code",
   "execution_count": null,
   "metadata": {},
   "outputs": [],
   "source": []
  },
  {
   "cell_type": "code",
   "execution_count": null,
   "metadata": {},
   "outputs": [],
   "source": []
  },
  {
   "cell_type": "markdown",
   "metadata": {},
   "source": [
    "# Q2"
   ]
  },
  {
   "cell_type": "markdown",
   "metadata": {},
   "source": [
    "Start with your last question , Modify your for loop to print a sentence using the name of the pizza\n",
    "instead of printing just the name of the pizza. For each pizza you should\n",
    "have one line of output containing a simple statement like I like pepperoni\n",
    "pizza."
   ]
  },
  {
   "cell_type": "code",
   "execution_count": 4,
   "metadata": {},
   "outputs": [
    {
     "name": "stdout",
     "output_type": "stream",
     "text": [
      "\t\t i like  Chicken Fajita Pizza\n",
      "\t\t i like  Afghani Tikka Pizza\n",
      "\t\t i like  Pepperoni Pizza\n"
     ]
    }
   ],
   "source": [
    "pizza =['Chicken Fajita Pizza','Afghani Tikka Pizza','Pepperoni Pizza']\n",
    "for a in pizza:\n",
    "    print('\\t\\t i like ',a)"
   ]
  },
  {
   "cell_type": "code",
   "execution_count": null,
   "metadata": {},
   "outputs": [],
   "source": []
  },
  {
   "cell_type": "code",
   "execution_count": null,
   "metadata": {},
   "outputs": [],
   "source": []
  },
  {
   "cell_type": "markdown",
   "metadata": {},
   "source": [
    "# Q3:"
   ]
  },
  {
   "cell_type": "markdown",
   "metadata": {},
   "source": [
    "Use a for loop to print the numbers from 1 to 20,\n",
    "inclusive."
   ]
  },
  {
   "cell_type": "code",
   "execution_count": 5,
   "metadata": {},
   "outputs": [
    {
     "name": "stdout",
     "output_type": "stream",
     "text": [
      "\t\t 1\n",
      "\t\t 2\n",
      "\t\t 3\n",
      "\t\t 4\n",
      "\t\t 5\n",
      "\t\t 6\n",
      "\t\t 7\n",
      "\t\t 8\n",
      "\t\t 9\n",
      "\t\t 10\n",
      "\t\t 11\n",
      "\t\t 12\n",
      "\t\t 13\n",
      "\t\t 14\n",
      "\t\t 15\n",
      "\t\t 16\n",
      "\t\t 17\n",
      "\t\t 18\n",
      "\t\t 19\n",
      "\t\t 20\n"
     ]
    }
   ],
   "source": [
    "for i in range(1,21):\n",
    "    print(\"\\t\\t\",i)"
   ]
  },
  {
   "cell_type": "code",
   "execution_count": null,
   "metadata": {},
   "outputs": [],
   "source": []
  },
  {
   "cell_type": "code",
   "execution_count": null,
   "metadata": {},
   "outputs": [],
   "source": []
  },
  {
   "cell_type": "markdown",
   "metadata": {},
   "source": [
    "# Q4:"
   ]
  },
  {
   "cell_type": "markdown",
   "metadata": {},
   "source": [
    "Use the third argument of the range() function to make a list\n",
    "of the odd numbers from 1 to 20. Use a for loop to print each number."
   ]
  },
  {
   "cell_type": "code",
   "execution_count": 6,
   "metadata": {},
   "outputs": [
    {
     "name": "stdout",
     "output_type": "stream",
     "text": [
      "\t\t 1\n",
      "\t\t 3\n",
      "\t\t 5\n",
      "\t\t 7\n",
      "\t\t 9\n",
      "\t\t 11\n",
      "\t\t 13\n",
      "\t\t 15\n",
      "\t\t 17\n",
      "\t\t 19\n"
     ]
    }
   ],
   "source": [
    "for i in range(1,21,2):\n",
    "    print(\"\\t\\t\",i)"
   ]
  },
  {
   "cell_type": "code",
   "execution_count": null,
   "metadata": {},
   "outputs": [],
   "source": []
  },
  {
   "cell_type": "code",
   "execution_count": null,
   "metadata": {},
   "outputs": [],
   "source": []
  },
  {
   "cell_type": "markdown",
   "metadata": {},
   "source": [
    "# Q5:"
   ]
  },
  {
   "cell_type": "markdown",
   "metadata": {},
   "source": [
    "Make a list of the multiples of 3 from 3 to 30. Use a for loop to\n",
    "print the numbers in your list."
   ]
  },
  {
   "cell_type": "code",
   "execution_count": 7,
   "metadata": {},
   "outputs": [
    {
     "name": "stdout",
     "output_type": "stream",
     "text": [
      "\t\t 3 x 1 = 3\n",
      "\t\t 3 x 2 = 6\n",
      "\t\t 3 x 3 = 9\n",
      "\t\t 3 x 4 = 12\n",
      "\t\t 3 x 5 = 15\n",
      "\t\t 3 x 6 = 18\n",
      "\t\t 3 x 7 = 21\n",
      "\t\t 3 x 8 = 24\n",
      "\t\t 3 x 9 = 27\n",
      "\t\t 3 x 10 = 30\n"
     ]
    }
   ],
   "source": [
    "table=int(3)\n",
    "for num in range(1,11):\n",
    "    print(f\"\\t\\t {table} x {num} = {num*table}\")"
   ]
  },
  {
   "cell_type": "code",
   "execution_count": null,
   "metadata": {},
   "outputs": [],
   "source": []
  },
  {
   "cell_type": "code",
   "execution_count": null,
   "metadata": {},
   "outputs": [],
   "source": []
  },
  {
   "cell_type": "code",
   "execution_count": null,
   "metadata": {},
   "outputs": [],
   "source": []
  },
  {
   "cell_type": "markdown",
   "metadata": {},
   "source": [
    "# Q6:"
   ]
  },
  {
   "cell_type": "markdown",
   "metadata": {},
   "source": [
    "A number raised to the third power is called a cube. For example,\n",
    "the cube of 2 is written as 2**3 in Python. Make a list of the first 10 cubes (that\n",
    "is, the cube of each integer from 1 through 10), and use a for loop to print out\n",
    "the value of each cube"
   ]
  },
  {
   "cell_type": "code",
   "execution_count": 8,
   "metadata": {},
   "outputs": [
    {
     "name": "stdout",
     "output_type": "stream",
     "text": [
      "\t\tthe cube for 1 = 1\n",
      "\t\tthe cube for 2 = 8\n",
      "\t\tthe cube for 3 = 27\n",
      "\t\tthe cube for 4 = 64\n",
      "\t\tthe cube for 5 = 125\n",
      "\t\tthe cube for 6 = 216\n",
      "\t\tthe cube for 7 = 343\n",
      "\t\tthe cube for 8 = 512\n",
      "\t\tthe cube for 9 = 729\n",
      "\t\tthe cube for 10 = 1000\n"
     ]
    }
   ],
   "source": [
    "for nm in range(1,11):\n",
    "    print(f'\\t\\tthe cube for {nm} = {nm**3}')\n",
    "    "
   ]
  },
  {
   "cell_type": "code",
   "execution_count": null,
   "metadata": {},
   "outputs": [],
   "source": []
  },
  {
   "cell_type": "code",
   "execution_count": null,
   "metadata": {},
   "outputs": [],
   "source": []
  },
  {
   "cell_type": "code",
   "execution_count": null,
   "metadata": {},
   "outputs": [],
   "source": []
  },
  {
   "cell_type": "markdown",
   "metadata": {},
   "source": [
    "# Q7:"
   ]
  },
  {
   "cell_type": "markdown",
   "metadata": {},
   "source": [
    "###### Make a python program that conatains your nine favourite dishes in a list called foods.\n",
    "\n",
    "###### Print the message, The first three items in the list are:. \n",
    "###### Then use a slice to print the first three items from that program’s list.\n",
    "\n",
    "###### Print the message, Three items from the middle of the list are:\n",
    "###### Use a slice to print three items from the middle of the list.\n",
    "\n",
    "###### Print the message, The last three items in the list are:\n",
    "###### Use a slice to print the last three items in the list."
   ]
  },
  {
   "cell_type": "code",
   "execution_count": 9,
   "metadata": {},
   "outputs": [
    {
     "name": "stdout",
     "output_type": "stream",
     "text": [
      "The first three items in the list are :         ['BEEF MANDI', 'KRAHI', 'BEEF BIRYANI']\n",
      "\n",
      "Three items from the middle of the list are :   ['CHINESE RICE', 'BIHARI KABAB']\n",
      "\n",
      "The last three items in the list are :          ['FRIED FISH', 'KARRI']\n"
     ]
    }
   ],
   "source": [
    "foods=[\"BEEF MANDI\",\"KRAHI\",\"BEEF BIRYANI\",\"KORMA\",\"CHINESE RICE\",\"BIHARI KABAB\",\"PASTA\",\"FRIED FISH\",\"KARRI\"]\n",
    "first=foods[:3]\n",
    "mid=foods[4:6]\n",
    "last=foods[7:]\n",
    "print('The first three items in the list are :        ',first)\n",
    "print('\\nThree items from the middle of the list are :  ',mid)\n",
    "print('\\nThe last three items in the list are :         ',last)"
   ]
  },
  {
   "cell_type": "code",
   "execution_count": null,
   "metadata": {},
   "outputs": [],
   "source": []
  },
  {
   "cell_type": "code",
   "execution_count": null,
   "metadata": {},
   "outputs": [],
   "source": []
  },
  {
   "cell_type": "code",
   "execution_count": null,
   "metadata": {},
   "outputs": [],
   "source": []
  },
  {
   "cell_type": "code",
   "execution_count": null,
   "metadata": {},
   "outputs": [],
   "source": []
  },
  {
   "cell_type": "code",
   "execution_count": null,
   "metadata": {},
   "outputs": [],
   "source": []
  },
  {
   "cell_type": "code",
   "execution_count": null,
   "metadata": {},
   "outputs": [],
   "source": []
  },
  {
   "cell_type": "markdown",
   "metadata": {},
   "source": [
    "# Q8:"
   ]
  },
  {
   "cell_type": "markdown",
   "metadata": {},
   "source": [
    "### Start with your program from your last Question8.\n",
    "###### Make a copy of the list of foods, and call it friend_foods.\n",
    "###### Then, do the following:\n",
    "######    Add a new dish to the original list.\n",
    "######    Add a different dish to the list friend_foodss.\n",
    "######    Prove that you have two separate lists. \n",
    "###### Print the message, My favorite pizzas are: and then use a for loop to print the first list. \n",
    "###### Print the message,\n",
    "###### My friend’s favorite foods are:, and then use a for loop to print the second list.\n",
    "    \n",
    "##### NOTE: Make sure each new dish is stored in the appropriate list."
   ]
  },
  {
   "cell_type": "code",
   "execution_count": 10,
   "metadata": {},
   "outputs": [
    {
     "name": "stdout",
     "output_type": "stream",
     "text": [
      "My favorite foods are : \n",
      "\t\t\t BEEF MANDI\n",
      "\t\t\t KRAHI\n",
      "\t\t\t BEEF BIRYANI\n",
      "\t\t\t KORMA\n",
      "\t\t\t CHINESE RICE\n",
      "\t\t\t BIHARI KABAB\n",
      "\t\t\t PASTA\n",
      "\t\t\t FRIED FISH\n",
      "\t\t\t KARRI\n",
      "\t\t\t Pizza Firies\n",
      "\n",
      "====>Second list <=====\n",
      "My friends favourite foods are : \n",
      "\t\t\t KRAHI\n",
      "\t\t\t BEEF BIRYANI\n",
      "\t\t\t KORMA\n",
      "\t\t\t CHINESE RICE\n",
      "\t\t\t BIHARI KABAB\n",
      "\t\t\t PASTA\n",
      "\t\t\t FRIED FISH\n",
      "\t\t\t KARRI\n",
      "\t\t\t Khaosa\n"
     ]
    }
   ],
   "source": [
    "foods=[\"BEEF MANDI\",\"KRAHI\",\"BEEF BIRYANI\",\"KORMA\",\"CHINESE RICE\",\"BIHARI KABAB\",\"PASTA\",\"FRIED FISH\",\"KARRI\"]\n",
    "friend_foods=foods[1:9]\n",
    "foods.append(\"Pizza Firies\")\n",
    "friend_foods.append(\"Khaosa\")\n",
    "print('My favorite foods are : ')\n",
    "for f in foods:\n",
    "    print(\"\\t\\t\\t\",f)\n",
    "print(\"\\n====>Second list <=====\")\n",
    "print('My friends favourite foods are : ')\n",
    "for d in friend_foods:\n",
    "    print(\"\\t\\t\\t\",d)"
   ]
  },
  {
   "cell_type": "code",
   "execution_count": null,
   "metadata": {},
   "outputs": [],
   "source": []
  },
  {
   "cell_type": "code",
   "execution_count": null,
   "metadata": {},
   "outputs": [],
   "source": []
  },
  {
   "cell_type": "code",
   "execution_count": null,
   "metadata": {},
   "outputs": [],
   "source": []
  },
  {
   "cell_type": "code",
   "execution_count": null,
   "metadata": {},
   "outputs": [],
   "source": []
  },
  {
   "cell_type": "code",
   "execution_count": null,
   "metadata": {},
   "outputs": [],
   "source": [
    " "
   ]
  },
  {
   "cell_type": "code",
   "execution_count": null,
   "metadata": {},
   "outputs": [],
   "source": []
  },
  {
   "cell_type": "markdown",
   "metadata": {},
   "source": [
    "# Q9:"
   ]
  },
  {
   "cell_type": "markdown",
   "metadata": {},
   "source": [
    "Take a user input from console line.Store it in a variable called Alien_color.\n",
    "\n",
    "If the alien’s color is red, print a statement that the player just earned 5 points for shooting the alien.\n",
    "\n",
    "If the alien’s color isn’t green, print a statement that the player just earned 10 points.\n",
    "\n",
    "If the alien's color isn't red or green , print a statment :, Alien is no more....."
   ]
  },
  {
   "cell_type": "code",
   "execution_count": 11,
   "metadata": {},
   "outputs": [
    {
     "name": "stdout",
     "output_type": "stream",
     "text": [
      "Enter the Alien Colorred\n",
      "the player just earned 5 points for shooting the alien\n"
     ]
    }
   ],
   "source": [
    "alien_color=input('Enter the Alien Color')\n",
    "if alien_color == \"red\":\n",
    "    print(\"the player just earned 5 points for shooting the alien\")\n",
    "elif alien_color ==\"green\":\n",
    "    print(\"the player just earned 10 points\")\n",
    "else:\n",
    "    print(\"Alien is no more\")"
   ]
  },
  {
   "cell_type": "code",
   "execution_count": 12,
   "metadata": {},
   "outputs": [
    {
     "name": "stdout",
     "output_type": "stream",
     "text": [
      "Enter the Alien Colorgreen\n",
      "the player just earned 10 points\n"
     ]
    }
   ],
   "source": [
    "alien_color=input('Enter the Alien Color')\n",
    "if alien_color == \"red\":\n",
    "    print(\"the player just earned 5 points for shooting the alien\")\n",
    "elif alien_color ==\"green\":\n",
    "    print(\"the player just earned 10 points\")\n",
    "else:\n",
    "    print(\"Alien is no more\")"
   ]
  },
  {
   "cell_type": "code",
   "execution_count": 13,
   "metadata": {},
   "outputs": [
    {
     "name": "stdout",
     "output_type": "stream",
     "text": [
      "Enter the Alien Coloryellow\n",
      "Alien is no more\n"
     ]
    }
   ],
   "source": [
    "alien_color=input('Enter the Alien Color')\n",
    "if alien_color == \"red\":\n",
    "    print(\"the player just earned 5 points for shooting the alien\")\n",
    "elif alien_color ==\"green\":\n",
    "    print(\"the player just earned 10 points\")\n",
    "else:\n",
    "    print(\"Alien is no more\")"
   ]
  },
  {
   "cell_type": "code",
   "execution_count": null,
   "metadata": {},
   "outputs": [],
   "source": []
  },
  {
   "cell_type": "markdown",
   "metadata": {},
   "source": [
    "# Q10:"
   ]
  },
  {
   "cell_type": "markdown",
   "metadata": {},
   "source": [
    "Write an if-elif-else chain that determines a person’s\n",
    "stage of life. Set a value for the variable age, and then:\n",
    "    \n",
    "•\t If the person is less than 2 years old, print a message that the person is a baby.\n",
    "\n",
    "•\t If the person is at least 2 years old but less than 4, print a message that the person is a toddler.\n",
    "\n",
    "•\t If the person is at least 4 years old but less than 13, print a message that the person is a kid.\n",
    "\n",
    "•\t If the person is at least 13 years old but less than 20, print a message that the person is a teenager.\n",
    "\n",
    "•\t If the person is at least 20 years old but less than 65, print a message that the person is an adult.\n",
    "\n",
    "•\t If the person is age 65 or older, print a message that the person is an elder."
   ]
  },
  {
   "cell_type": "code",
   "execution_count": 14,
   "metadata": {},
   "outputs": [
    {
     "name": "stdout",
     "output_type": "stream",
     "text": [
      "Enter the age of the person  = 25\n",
      "The person is an Adult\n"
     ]
    }
   ],
   "source": [
    "age=int(input('Enter the age of the person  = '))\n",
    "if age<2:\n",
    "    print('The person is a baby')\n",
    "elif age>=2 and age<4:\n",
    "    print(\"The person is a toddler\")\n",
    "elif age>=4 and age<13:\n",
    "    print(\"The person is a kid\")\n",
    "elif age>=13 and age<20:\n",
    "    print(\"The person is a teenager\")\n",
    "elif age>=20 and age<65:\n",
    "    print(\"The person is an Adult\")\n",
    "else:\n",
    "    print(\"The person is an Elder\")"
   ]
  },
  {
   "cell_type": "code",
   "execution_count": null,
   "metadata": {},
   "outputs": [],
   "source": []
  },
  {
   "cell_type": "code",
   "execution_count": null,
   "metadata": {},
   "outputs": [],
   "source": []
  },
  {
   "cell_type": "code",
   "execution_count": null,
   "metadata": {},
   "outputs": [],
   "source": []
  },
  {
   "cell_type": "code",
   "execution_count": null,
   "metadata": {},
   "outputs": [],
   "source": []
  },
  {
   "cell_type": "code",
   "execution_count": null,
   "metadata": {},
   "outputs": [],
   "source": []
  },
  {
   "cell_type": "markdown",
   "metadata": {},
   "source": [
    "# Q11:"
   ]
  },
  {
   "cell_type": "markdown",
   "metadata": {},
   "source": [
    "Do the following to create a program that simulates how websites ensure that everyone has a unique username.\n",
    "\n",
    "•\t Make a list of five or more usernames called current_users.\n",
    "\n",
    "•\t Make another list of five usernames called new_users. \n",
    "Make sure one or two of the new usernames are also in the current_users list.\n",
    "\n",
    "•\t Loop through the new_users list to see if each new username has already been used. \n",
    "If it has, print a message that the person will need to enter a new username. \n",
    "If a username has not been used, print a message saying that the username is available.\n",
    "\n",
    "•\t Make sure your comparison is case insensitive. If 'John' has been used, 'JOHN' should not be accepted."
   ]
  },
  {
   "cell_type": "code",
   "execution_count": 18,
   "metadata": {},
   "outputs": [
    {
     "name": "stdout",
     "output_type": "stream",
     "text": [
      "Shahdad already used in used,try something else\n",
      "Mazhar already used in used,try something else\n",
      "Ahsan  username is available!\n"
     ]
    }
   ],
   "source": [
    "current_users= [\"Fatima\",\"sadaf\",\"Areeba\",\"mazhar\",\"Shahdad\"]\n",
    "new_users=[\"anaya\",\"john\",\"SHAHDAD\",\"mazhar\",\"ahsan\"]\n",
    "current= [n.lower() for n in current_users]\n",
    "for i in new_users:\n",
    "    if i.lower() in current:\n",
    "        print(i.title(),\"already used in used,try something else\")\n",
    "else:\n",
    "    print( i.title() , \" username is available!\")"
   ]
  },
  {
   "cell_type": "code",
   "execution_count": null,
   "metadata": {},
   "outputs": [],
   "source": []
  },
  {
   "cell_type": "code",
   "execution_count": null,
   "metadata": {},
   "outputs": [],
   "source": []
  },
  {
   "cell_type": "code",
   "execution_count": null,
   "metadata": {},
   "outputs": [],
   "source": []
  },
  {
   "cell_type": "markdown",
   "metadata": {},
   "source": [
    "# Q12:"
   ]
  },
  {
   "cell_type": "markdown",
   "metadata": {},
   "source": [
    "Use a dictionary to store information about a person you know.\n",
    "Store their first name, last name, age, and the city in which they live. \n",
    "You should have keys such as first_name, last_name, age, and city. \n",
    "Print each piece of information stored in your dictionary"
   ]
  },
  {
   "cell_type": "code",
   "execution_count": 19,
   "metadata": {},
   "outputs": [
    {
     "name": "stdout",
     "output_type": "stream",
     "text": [
      "Shahdad\n",
      "Pervez Sharif\n",
      "26\n",
      "Karachi\n"
     ]
    }
   ],
   "source": [
    "d= {}\n",
    "d['First Name']= \"Shahdad\"\n",
    "d[\"Last Name\"]= \"Pervez Sharif\"\n",
    "d[\"Age\"]= 26\n",
    "d[\"city\"]= \"Karachi\"\n",
    "print(d['First Name'])\n",
    "print(d['Last Name'])\n",
    "print(d[\"Age\"])\n",
    "print(d[\"city\"])"
   ]
  },
  {
   "cell_type": "code",
   "execution_count": 20,
   "metadata": {},
   "outputs": [
    {
     "name": "stdout",
     "output_type": "stream",
     "text": [
      "{'First Name': 'Shahdad', 'Last Name': 'Pervez Sharif', 'Age': 26, 'city': 'Karachi'}\n"
     ]
    }
   ],
   "source": [
    "d= {} \n",
    "d[\"First Name\"]=\"Shahdad\"\n",
    "d[\"Last Name\"]= \"Pervez Sharif\"\n",
    "d[\"Age\"]= 26\n",
    "d[\"city\"]= \"Karachi\"\n",
    "print(d)\n"
   ]
  },
  {
   "cell_type": "code",
   "execution_count": null,
   "metadata": {},
   "outputs": [],
   "source": []
  },
  {
   "cell_type": "code",
   "execution_count": null,
   "metadata": {},
   "outputs": [],
   "source": []
  },
  {
   "cell_type": "markdown",
   "metadata": {},
   "source": [
    "# Q13:"
   ]
  },
  {
   "cell_type": "markdown",
   "metadata": {},
   "source": [
    "Starts with your last question 12 , loop through the dictionary’s keys and values.\n",
    "When you’re sure that your loop works, add five more Python terms to your\n",
    "dictionary . When you run your program again, these new words and meanings\n",
    "should automatically be included in the output."
   ]
  },
  {
   "cell_type": "code",
   "execution_count": 21,
   "metadata": {},
   "outputs": [
    {
     "name": "stdout",
     "output_type": "stream",
     "text": [
      "\t\tFirst Name : Shahdad\n",
      "\t\tLast Name : Pervez Sharif\n",
      "\t\tAge : 26\n",
      "\t\tcity : Karachi\n",
      "\t\tcopy : Returns a copy of the dictionary\n",
      "\t\tfromkeys : Returns a dictionary with the specified keys and values\n",
      "\t\tget : Returns the value of the specified key\n",
      "\t\titems : Returns a list containing the a tuple for each key value pair\n",
      "\t\tkeys : Returns a list containing the dictionary's keys\n",
      "\t\tpop : Removes the element with the specified key\n"
     ]
    }
   ],
   "source": [
    "d= {}\n",
    "d['First Name']= \"Shahdad\"\n",
    "d[\"Last Name\"]= \"Pervez Sharif\"\n",
    "d[\"Age\"]= 26\n",
    "d[\"city\"]= \"Karachi\"\n",
    "\n",
    "d.update(copy= \"Returns a copy of the dictionary\")\n",
    "d.update(fromkeys= \"Returns a dictionary with the specified keys and values\")\n",
    "d.update(get=\"Returns the value of the specified key\")\n",
    "d.update(items=\"Returns a list containing the a tuple for each key value pair\")\n",
    "d.update(keys=\"Returns a list containing the dictionary's keys\")\n",
    "d.update(pop=\"Removes the element with the specified key\")\n",
    "for keys,values in d.items():\n",
    "    print(f'\\t\\t{keys} : {values}')"
   ]
  },
  {
   "cell_type": "code",
   "execution_count": null,
   "metadata": {},
   "outputs": [],
   "source": []
  },
  {
   "cell_type": "code",
   "execution_count": null,
   "metadata": {},
   "outputs": [],
   "source": []
  },
  {
   "cell_type": "code",
   "execution_count": null,
   "metadata": {},
   "outputs": [],
   "source": []
  },
  {
   "cell_type": "code",
   "execution_count": null,
   "metadata": {},
   "outputs": [],
   "source": []
  },
  {
   "cell_type": "markdown",
   "metadata": {},
   "source": [
    "# Q14:"
   ]
  },
  {
   "cell_type": "markdown",
   "metadata": {},
   "source": [
    "Make a dictionary containing three major rivers and the country\n",
    "each river runs through. One key-value pair might be 'nile': 'egypt'.\n",
    "    \n",
    "    \n",
    "•\t Use a loop to print a sentence about each river, such as The Nile runs\n",
    "through Egypt.\n",
    "\n",
    "NOTE: use upper case through keys and values."
   ]
  },
  {
   "cell_type": "code",
   "execution_count": 22,
   "metadata": {},
   "outputs": [
    {
     "name": "stdout",
     "output_type": "stream",
     "text": [
      "\t\tNILE runs through EGYPT\n",
      "\t\tAMAZON runs through SOUTH AMERICA\n",
      "\t\tFURAT runs through IRAQ\n"
     ]
    }
   ],
   "source": [
    "d={}\n",
    "d[\"Nile\"]=\"egypt\"\n",
    "d[\"amazon\"]=\"south america\"\n",
    "d[\"Furat\"]=\"iraq\"\n",
    "for keys,values in d.items():\n",
    "    print(f'\\t\\t{keys.upper()} runs through {values.upper()}')"
   ]
  },
  {
   "cell_type": "code",
   "execution_count": null,
   "metadata": {},
   "outputs": [],
   "source": []
  },
  {
   "cell_type": "code",
   "execution_count": null,
   "metadata": {},
   "outputs": [],
   "source": []
  },
  {
   "cell_type": "markdown",
   "metadata": {},
   "source": [
    "# Q15:"
   ]
  },
  {
   "cell_type": "markdown",
   "metadata": {},
   "source": [
    "Make several dictionaries, where the name of each dictionary is the\n",
    "name of a pet. In each dictionary, include the kind of animal and the owner’s\n",
    "name. Store these dictionaries in a list called pets. Next, loop through your list\n",
    "and as you do print everything you know about each pet."
   ]
  },
  {
   "cell_type": "code",
   "execution_count": 2,
   "metadata": {},
   "outputs": [
    {
     "name": "stdout",
     "output_type": "stream",
     "text": [
      "\t\tthis goat is owned by mubeen\n",
      "\t\tthis dog is owned by john\n",
      "\t\tthis cat is owned by sarina\n",
      "\t\tthis ananconda is owned by sadiq\n"
     ]
    }
   ],
   "source": [
    "goat={\"goat\":\"mubeen\"}\n",
    "dog={\"dog\":\"john\"}\n",
    "cat={\"cat\":\"sarina\"}\n",
    "anaconda={\"ananconda\":\"sadiq\"}\n",
    "a_list = [goat,dog,cat,anaconda]\n",
    "for a in a_list:\n",
    "    for keys,values in a.items():\n",
    "        print(f'\\t\\tthis',keys,\"is owned by\",values)"
   ]
  },
  {
   "cell_type": "code",
   "execution_count": null,
   "metadata": {},
   "outputs": [],
   "source": []
  }
 ],
 "metadata": {
  "kernelspec": {
   "display_name": "Python 3",
   "language": "python",
   "name": "python3"
  },
  "language_info": {
   "codemirror_mode": {
    "name": "ipython",
    "version": 3
   },
   "file_extension": ".py",
   "mimetype": "text/x-python",
   "name": "python",
   "nbconvert_exporter": "python",
   "pygments_lexer": "ipython3",
   "version": "3.7.3"
  }
 },
 "nbformat": 4,
 "nbformat_minor": 2
}
