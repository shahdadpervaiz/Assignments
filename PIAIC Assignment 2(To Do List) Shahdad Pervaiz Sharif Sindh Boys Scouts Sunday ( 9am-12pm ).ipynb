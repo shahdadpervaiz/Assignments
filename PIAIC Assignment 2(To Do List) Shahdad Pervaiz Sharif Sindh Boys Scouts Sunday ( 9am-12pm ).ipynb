{
 "cells": [
  {
   "cell_type": "markdown",
   "metadata": {},
   "source": [
    "# To Do List"
   ]
  },
  {
   "cell_type": "code",
   "execution_count": 2,
   "metadata": {},
   "outputs": [
    {
     "name": "stdout",
     "output_type": "stream",
     "text": [
      "Enter what you have done?  call tom\n",
      "you have Accomplished :  ['call tom']\n",
      "you have to do : ['submit papers', 'meeting', 'rest']\n"
     ]
    }
   ],
   "source": [
    "\n",
    "tasks = ['call tom','submit papers','meeting','rest']\n",
    "accomplished = []\n",
    "tasks_progress= input('Enter what you have done?  ')\n",
    "if tasks_progress in tasks:\n",
    "    process=tasks.index(tasks_progress)\n",
    "    tasks.pop(process)\n",
    "    accomplished.append(tasks_progress)\n",
    "\n",
    "tasks_progress= input('Enter what you have done?  ')\n",
    "if tasks_progress in tasks:\n",
    "    process=tasks.index(tasks_progress)\n",
    "    tasks.pop(process)\n",
    "    accomplished.append(tasks_progress)\n",
    "\n",
    "tasks_progress= input('Enter what you have done?  ')\n",
    "if tasks_progress in tasks:\n",
    "    process=tasks.index(tasks_progress)\n",
    "    tasks.pop(process)\n",
    "    accomplished.append(tasks_progress)\n",
    "    print(f'you have Accomplished :  {accomplished}')\n",
    "    print(f'you have to do : {tasks}')\n",
    "else:\n",
    "    print(\"your task isn't in the list\")"
   ]
  },
  {
   "cell_type": "code",
   "execution_count": null,
   "metadata": {},
   "outputs": [],
   "source": []
  }
 ],
 "metadata": {
  "kernelspec": {
   "display_name": "Python 3",
   "language": "python",
   "name": "python3"
  },
  "language_info": {
   "codemirror_mode": {
    "name": "ipython",
    "version": 3
   },
   "file_extension": ".py",
   "mimetype": "text/x-python",
   "name": "python",
   "nbconvert_exporter": "python",
   "pygments_lexer": "ipython3",
   "version": "3.7.3"
  }
 },
 "nbformat": 4,
 "nbformat_minor": 2
}
